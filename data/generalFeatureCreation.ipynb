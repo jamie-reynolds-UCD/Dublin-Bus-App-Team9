{
 "cells": [
  {
   "cell_type": "code",
   "execution_count": 1,
   "id": "cutting-working",
   "metadata": {},
   "outputs": [],
   "source": [
    "import pandas as pd\n",
    "import datetime as dt\n",
    "from matplotlib import pyplot as plt"
   ]
  },
  {
   "cell_type": "markdown",
   "id": "affecting-problem",
   "metadata": {},
   "source": [
    "## Read cleaned csv"
   ]
  },
  {
   "cell_type": "code",
   "execution_count": 1431,
   "id": "traditional-appointment",
   "metadata": {},
   "outputs": [],
   "source": [
    "routeNum = '270'\n",
    "df = pd.read_csv(f'lines/{routeNum}/{routeNum}_DQP_cleanedCSV.csv')"
   ]
  },
  {
   "cell_type": "markdown",
   "id": "completed-vitamin",
   "metadata": {},
   "source": [
    "### Make sure the features are the correct datatypes"
   ]
  },
  {
   "cell_type": "code",
   "execution_count": 1432,
   "id": "grateful-wheat",
   "metadata": {},
   "outputs": [
    {
     "data": {
      "text/html": [
       "<div>\n",
       "<style scoped>\n",
       "    .dataframe tbody tr th:only-of-type {\n",
       "        vertical-align: middle;\n",
       "    }\n",
       "\n",
       "    .dataframe tbody tr th {\n",
       "        vertical-align: top;\n",
       "    }\n",
       "\n",
       "    .dataframe thead th {\n",
       "        text-align: right;\n",
       "    }\n",
       "</style>\n",
       "<table border=\"1\" class=\"dataframe\">\n",
       "  <thead>\n",
       "    <tr style=\"text-align: right;\">\n",
       "      <th></th>\n",
       "      <th>DAYOFSERVICE</th>\n",
       "      <th>TRIPID</th>\n",
       "      <th>PROGRNUMBER</th>\n",
       "      <th>STOPPOINTID</th>\n",
       "      <th>ARR/DEP_PLAN</th>\n",
       "      <th>ARR_ACT</th>\n",
       "      <th>DEP_ACT</th>\n",
       "      <th>ROUTEID</th>\n",
       "      <th>DIRECTION</th>\n",
       "    </tr>\n",
       "  </thead>\n",
       "  <tbody>\n",
       "    <tr>\n",
       "      <th>0</th>\n",
       "      <td>01-JAN-18 00:00:00</td>\n",
       "      <td>5962547</td>\n",
       "      <td>1</td>\n",
       "      <td>7026</td>\n",
       "      <td>72600</td>\n",
       "      <td>72589</td>\n",
       "      <td>72589</td>\n",
       "      <td>270_42</td>\n",
       "      <td>1</td>\n",
       "    </tr>\n",
       "    <tr>\n",
       "      <th>1</th>\n",
       "      <td>01-JAN-18 00:00:00</td>\n",
       "      <td>5962547</td>\n",
       "      <td>3</td>\n",
       "      <td>4324</td>\n",
       "      <td>72991</td>\n",
       "      <td>72985</td>\n",
       "      <td>72992</td>\n",
       "      <td>270_42</td>\n",
       "      <td>1</td>\n",
       "    </tr>\n",
       "    <tr>\n",
       "      <th>2</th>\n",
       "      <td>01-JAN-18 00:00:00</td>\n",
       "      <td>5962547</td>\n",
       "      <td>4</td>\n",
       "      <td>4769</td>\n",
       "      <td>73010</td>\n",
       "      <td>73031</td>\n",
       "      <td>73039</td>\n",
       "      <td>270_42</td>\n",
       "      <td>1</td>\n",
       "    </tr>\n",
       "    <tr>\n",
       "      <th>3</th>\n",
       "      <td>01-JAN-18 00:00:00</td>\n",
       "      <td>5962547</td>\n",
       "      <td>5</td>\n",
       "      <td>4770</td>\n",
       "      <td>73040</td>\n",
       "      <td>73080</td>\n",
       "      <td>73080</td>\n",
       "      <td>270_42</td>\n",
       "      <td>1</td>\n",
       "    </tr>\n",
       "    <tr>\n",
       "      <th>4</th>\n",
       "      <td>01-JAN-18 00:00:00</td>\n",
       "      <td>5962547</td>\n",
       "      <td>6</td>\n",
       "      <td>4765</td>\n",
       "      <td>73062</td>\n",
       "      <td>73126</td>\n",
       "      <td>73133</td>\n",
       "      <td>270_42</td>\n",
       "      <td>1</td>\n",
       "    </tr>\n",
       "    <tr>\n",
       "      <th>...</th>\n",
       "      <td>...</td>\n",
       "      <td>...</td>\n",
       "      <td>...</td>\n",
       "      <td>...</td>\n",
       "      <td>...</td>\n",
       "      <td>...</td>\n",
       "      <td>...</td>\n",
       "      <td>...</td>\n",
       "      <td>...</td>\n",
       "    </tr>\n",
       "    <tr>\n",
       "      <th>195918</th>\n",
       "      <td>31-DEC-18 00:00:00</td>\n",
       "      <td>8578509</td>\n",
       "      <td>8</td>\n",
       "      <td>4767</td>\n",
       "      <td>63714</td>\n",
       "      <td>63719</td>\n",
       "      <td>63719</td>\n",
       "      <td>270_42</td>\n",
       "      <td>1</td>\n",
       "    </tr>\n",
       "    <tr>\n",
       "      <th>195919</th>\n",
       "      <td>31-DEC-18 00:00:00</td>\n",
       "      <td>8578509</td>\n",
       "      <td>9</td>\n",
       "      <td>4768</td>\n",
       "      <td>63732</td>\n",
       "      <td>63750</td>\n",
       "      <td>63750</td>\n",
       "      <td>270_42</td>\n",
       "      <td>1</td>\n",
       "    </tr>\n",
       "    <tr>\n",
       "      <th>195920</th>\n",
       "      <td>31-DEC-18 00:00:00</td>\n",
       "      <td>8578509</td>\n",
       "      <td>10</td>\n",
       "      <td>4325</td>\n",
       "      <td>63809</td>\n",
       "      <td>63835</td>\n",
       "      <td>63835</td>\n",
       "      <td>270_42</td>\n",
       "      <td>1</td>\n",
       "    </tr>\n",
       "    <tr>\n",
       "      <th>195921</th>\n",
       "      <td>31-DEC-18 00:00:00</td>\n",
       "      <td>8578509</td>\n",
       "      <td>11</td>\n",
       "      <td>3328</td>\n",
       "      <td>63892</td>\n",
       "      <td>63909</td>\n",
       "      <td>63933</td>\n",
       "      <td>270_42</td>\n",
       "      <td>1</td>\n",
       "    </tr>\n",
       "    <tr>\n",
       "      <th>195922</th>\n",
       "      <td>31-DEC-18 00:00:00</td>\n",
       "      <td>8578509</td>\n",
       "      <td>12</td>\n",
       "      <td>3329</td>\n",
       "      <td>63953</td>\n",
       "      <td>64008</td>\n",
       "      <td>64008</td>\n",
       "      <td>270_42</td>\n",
       "      <td>1</td>\n",
       "    </tr>\n",
       "  </tbody>\n",
       "</table>\n",
       "<p>195923 rows × 9 columns</p>\n",
       "</div>"
      ],
      "text/plain": [
       "              DAYOFSERVICE   TRIPID  PROGRNUMBER  STOPPOINTID  ARR/DEP_PLAN  \\\n",
       "0       01-JAN-18 00:00:00  5962547            1         7026         72600   \n",
       "1       01-JAN-18 00:00:00  5962547            3         4324         72991   \n",
       "2       01-JAN-18 00:00:00  5962547            4         4769         73010   \n",
       "3       01-JAN-18 00:00:00  5962547            5         4770         73040   \n",
       "4       01-JAN-18 00:00:00  5962547            6         4765         73062   \n",
       "...                    ...      ...          ...          ...           ...   \n",
       "195918  31-DEC-18 00:00:00  8578509            8         4767         63714   \n",
       "195919  31-DEC-18 00:00:00  8578509            9         4768         63732   \n",
       "195920  31-DEC-18 00:00:00  8578509           10         4325         63809   \n",
       "195921  31-DEC-18 00:00:00  8578509           11         3328         63892   \n",
       "195922  31-DEC-18 00:00:00  8578509           12         3329         63953   \n",
       "\n",
       "        ARR_ACT  DEP_ACT ROUTEID  DIRECTION  \n",
       "0         72589    72589  270_42          1  \n",
       "1         72985    72992  270_42          1  \n",
       "2         73031    73039  270_42          1  \n",
       "3         73080    73080  270_42          1  \n",
       "4         73126    73133  270_42          1  \n",
       "...         ...      ...     ...        ...  \n",
       "195918    63719    63719  270_42          1  \n",
       "195919    63750    63750  270_42          1  \n",
       "195920    63835    63835  270_42          1  \n",
       "195921    63909    63933  270_42          1  \n",
       "195922    64008    64008  270_42          1  \n",
       "\n",
       "[195923 rows x 9 columns]"
      ]
     },
     "execution_count": 1432,
     "metadata": {},
     "output_type": "execute_result"
    }
   ],
   "source": [
    "df"
   ]
  },
  {
   "cell_type": "code",
   "execution_count": 1433,
   "id": "mediterranean-allen",
   "metadata": {},
   "outputs": [],
   "source": [
    "df['DAYOFSERVICE'] = pd.to_datetime(df['DAYOFSERVICE'])"
   ]
  },
  {
   "cell_type": "code",
   "execution_count": 1434,
   "id": "adopted-directive",
   "metadata": {},
   "outputs": [],
   "source": [
    "# month\n",
    "df['MONTH'] = df['DAYOFSERVICE'].dt.month"
   ]
  },
  {
   "cell_type": "code",
   "execution_count": 1435,
   "id": "varied-covering",
   "metadata": {},
   "outputs": [],
   "source": [
    "# Day of the week\n",
    "df['WEEKDAY'] = df['DAYOFSERVICE'].dt.weekday"
   ]
  },
  {
   "cell_type": "code",
   "execution_count": 1436,
   "id": "identified-values",
   "metadata": {},
   "outputs": [],
   "source": [
    "# hour\n",
    "df['HOUR'] = (df['ARR/DEP_PLAN']//60)//60"
   ]
  },
  {
   "cell_type": "markdown",
   "id": "finnish-navigation",
   "metadata": {},
   "source": [
    "### Sort dataframe"
   ]
  },
  {
   "cell_type": "code",
   "execution_count": 1437,
   "id": "invalid-morris",
   "metadata": {},
   "outputs": [],
   "source": [
    "df.sort_values(by=['DAYOFSERVICE', 'TRIPID', 'PROGRNUMBER'], inplace=True, ignore_index=True)"
   ]
  },
  {
   "cell_type": "markdown",
   "id": "asian-cloud",
   "metadata": {},
   "source": [
    "## remove all non-complete journeys\n",
    "- first find what unique PROGRNUMBER each routeID has for each direction"
   ]
  },
  {
   "cell_type": "code",
   "execution_count": 1438,
   "id": "vanilla-wednesday",
   "metadata": {},
   "outputs": [],
   "source": [
    "# get a list of unique routeids\n",
    "routeIDs = list(sorted(df['ROUTEID'].unique()))"
   ]
  },
  {
   "cell_type": "code",
   "execution_count": 1439,
   "id": "empty-implement",
   "metadata": {},
   "outputs": [],
   "source": [
    "# for each routeid, make it a dictionary key\n",
    "# for each key, add the list of all unique stops for that routeid in the dataframe\n",
    "routeIDs_dict = {}\n",
    "for ident in routeIDs:\n",
    "    routeIDs_dict[ident] = list(sorted(df[df['ROUTEID']==ident]['PROGRNUMBER'].unique()))"
   ]
  },
  {
   "cell_type": "markdown",
   "id": "intimate-smart",
   "metadata": {},
   "source": [
    "### Check that each routeid is consecutive"
   ]
  },
  {
   "cell_type": "code",
   "execution_count": 1440,
   "id": "flush-platform",
   "metadata": {},
   "outputs": [],
   "source": [
    "for ident in routeIDs:\n",
    "    for i in range(1, len(routeIDs_dict[ident])):\n",
    "        if routeIDs_dict[ident][i] - routeIDs_dict[ident][i-1] > 1:\n",
    "            print(f'{ident} is not consecutive.')\n",
    "            break"
   ]
  },
  {
   "cell_type": "code",
   "execution_count": 1441,
   "id": "crazy-license",
   "metadata": {},
   "outputs": [],
   "source": [
    "tripDays = df[(df['TRIPID']==df.shift(-1)['TRIPID']) &\\\n",
    "           (df['DAYOFSERVICE']==df.shift(-1)['DAYOFSERVICE']) &\\\n",
    "           (df['PROGRNUMBER']-df.shift(-1)['PROGRNUMBER']<-1)][['TRIPID', 'DAYOFSERVICE']]"
   ]
  },
  {
   "cell_type": "code",
   "execution_count": 1442,
   "id": "revolutionary-latino",
   "metadata": {},
   "outputs": [],
   "source": [
    "tripDays.reset_index(inplace=True)"
   ]
  },
  {
   "cell_type": "markdown",
   "id": "oriented-drain",
   "metadata": {},
   "source": [
    "- **if yes, move on to dropping all non-consecutive journeys from the dataframe**\n",
    "- **if no, find out which PROGRNUMBER values are missing from the non-consecutive routeids**"
   ]
  },
  {
   "cell_type": "markdown",
   "id": "initial-tiffany",
   "metadata": {},
   "source": [
    "- **for each entry in the tripDays dataframe, find all rows in the dataframe that have the same TRIPID and DAYOFSERVICE as the current row in the tripDays dataframe**\n",
    "- **add the indexes of each of these rows to a list**"
   ]
  },
  {
   "cell_type": "markdown",
   "id": "embedded-tractor",
   "metadata": {},
   "source": [
    "## If journey is non-consecutive\n",
    "\n",
    "### x, y and z routeids are non-consecutive\n",
    "\n",
    "- what stops are missing for the non-consecutive ROUTEIDs?"
   ]
  },
  {
   "cell_type": "code",
   "execution_count": 1342,
   "id": "hazardous-pilot",
   "metadata": {},
   "outputs": [
    {
     "name": "stdout",
     "output_type": "stream",
     "text": [
      "220_14: 59 is more than 1 away from 57\n"
     ]
    }
   ],
   "source": [
    "for ident in routeIDs:\n",
    "    for i in range(1, len(routeIDs_dict[ident])):\n",
    "        if routeIDs_dict[ident][i] - routeIDs_dict[ident][i-1] > 1:\n",
    "            print(f'{ident}: {routeIDs_dict[ident][i]} is more than 1 away from {routeIDs_dict[ident][i-1]}')"
   ]
  },
  {
   "cell_type": "markdown",
   "id": "inappropriate-democrat",
   "metadata": {},
   "source": [
    "#### We can see from this that\n",
    "- ROUTEID x is missing PROGRNUMBER y\n",
    "- ROUTEID a is missing PROGRNUMBER b\n",
    "\n",
    "### Make exception cases"
   ]
  },
  {
   "cell_type": "code",
   "execution_count": 1343,
   "id": "current-validity",
   "metadata": {},
   "outputs": [],
   "source": [
    "exception1 = df[(df['ROUTEID']=='220_14')&(df['PROGRNUMBER']==57)&\\\n",
    "                       (df.shift(-1)['PROGRNUMBER']==59)].index\n",
    "\n",
    "\n",
    "# when df routeid is x and when the current program number is one less than y AND\n",
    "# the next program number is one greater than y\n",
    "# add this index to the exception list."
   ]
  },
  {
   "cell_type": "markdown",
   "id": "private-wrong",
   "metadata": {},
   "source": [
    "### When all exception cases have been made , drop each of the exceptions from the tripDays dataframe made before"
   ]
  },
  {
   "cell_type": "code",
   "execution_count": 1344,
   "id": "thorough-blair",
   "metadata": {},
   "outputs": [],
   "source": [
    "# list of indices to drop from the tripDays dataframe\n",
    "Exception1 = []\n",
    "for i in exception1:\n",
    "    Exception1.append(i)\n",
    "\n",
    "# do this for all exceptions and add to tripDayDrop list"
   ]
  },
  {
   "cell_type": "code",
   "execution_count": 1345,
   "id": "interior-failure",
   "metadata": {},
   "outputs": [],
   "source": [
    "tripDayDrop = []\n",
    "\n",
    "for i in Exception1:\n",
    "    tripDayDrop.append(tripDays[tripDays['index']==i].index)\n"
   ]
  },
  {
   "cell_type": "code",
   "execution_count": 1346,
   "id": "close-logging",
   "metadata": {},
   "outputs": [],
   "source": [
    "TripDayDrop = []\n",
    "for i in tripDayDrop:\n",
    "    TripDayDrop.append(i[0])"
   ]
  },
  {
   "cell_type": "code",
   "execution_count": 1347,
   "id": "hydraulic-snapshot",
   "metadata": {},
   "outputs": [],
   "source": [
    "tripDays.drop(TripDayDrop, inplace=True)"
   ]
  },
  {
   "cell_type": "code",
   "execution_count": 1348,
   "id": "tracked-template",
   "metadata": {},
   "outputs": [],
   "source": [
    "tripDays.drop(columns=['index'], inplace=True)"
   ]
  },
  {
   "cell_type": "code",
   "execution_count": 1349,
   "id": "light-microwave",
   "metadata": {},
   "outputs": [],
   "source": [
    "tripDays.reset_index(drop=True, inplace=True)"
   ]
  },
  {
   "cell_type": "code",
   "execution_count": 1350,
   "id": "systematic-income",
   "metadata": {
    "scrolled": true
   },
   "outputs": [
    {
     "data": {
      "text/html": [
       "<div>\n",
       "<style scoped>\n",
       "    .dataframe tbody tr th:only-of-type {\n",
       "        vertical-align: middle;\n",
       "    }\n",
       "\n",
       "    .dataframe tbody tr th {\n",
       "        vertical-align: top;\n",
       "    }\n",
       "\n",
       "    .dataframe thead th {\n",
       "        text-align: right;\n",
       "    }\n",
       "</style>\n",
       "<table border=\"1\" class=\"dataframe\">\n",
       "  <thead>\n",
       "    <tr style=\"text-align: right;\">\n",
       "      <th></th>\n",
       "      <th>TRIPID</th>\n",
       "      <th>DAYOFSERVICE</th>\n",
       "    </tr>\n",
       "  </thead>\n",
       "  <tbody>\n",
       "  </tbody>\n",
       "</table>\n",
       "</div>"
      ],
      "text/plain": [
       "Empty DataFrame\n",
       "Columns: [TRIPID, DAYOFSERVICE]\n",
       "Index: []"
      ]
     },
     "execution_count": 1350,
     "metadata": {},
     "output_type": "execute_result"
    }
   ],
   "source": [
    "tripDays"
   ]
  },
  {
   "cell_type": "markdown",
   "id": "operating-wayne",
   "metadata": {},
   "source": [
    "# Now we can drop incomplete trips from the main dataframe"
   ]
  },
  {
   "cell_type": "markdown",
   "id": "historic-cover",
   "metadata": {},
   "source": [
    "## drop incomplete trips"
   ]
  },
  {
   "cell_type": "code",
   "execution_count": 1443,
   "id": "formal-experiment",
   "metadata": {},
   "outputs": [],
   "source": [
    "dropIndexList = []\n",
    "\n",
    "for i in range(tripDays.shape[0]):\n",
    "#     for debugging:\n",
    "#     if i % 100 == 0:\n",
    "#         print(i)\n",
    "    tripid = tripDays.loc[i, 'TRIPID']\n",
    "    date = tripDays.loc[i, 'DAYOFSERVICE']\n",
    "    dropIndex = df[(df['TRIPID']==tripid) & (df['DAYOFSERVICE']==date)].index\n",
    "    dropIndexList.append(dropIndex)"
   ]
  },
  {
   "cell_type": "code",
   "execution_count": 1444,
   "id": "genuine-miami",
   "metadata": {},
   "outputs": [],
   "source": [
    "# make it one continuous list\n",
    "DropIndexList = []\n",
    "\n",
    "for i in dropIndexList:\n",
    "    for j in i:\n",
    "        DropIndexList.append(j)"
   ]
  },
  {
   "cell_type": "code",
   "execution_count": 1445,
   "id": "frank-sandwich",
   "metadata": {},
   "outputs": [],
   "source": [
    "df.drop(df.index[DropIndexList], inplace=True)"
   ]
  },
  {
   "cell_type": "code",
   "execution_count": 1446,
   "id": "independent-honor",
   "metadata": {},
   "outputs": [],
   "source": [
    "df.reset_index(drop=True, inplace=True)"
   ]
  },
  {
   "cell_type": "markdown",
   "id": "prescribed-perfume",
   "metadata": {},
   "source": [
    "### Final check for non-consecutive journeys:\n",
    "- if there were non-consecutive journeys run from the 'remove all non-complete journeys' heading again"
   ]
  },
  {
   "cell_type": "code",
   "execution_count": 1447,
   "id": "naked-inspiration",
   "metadata": {},
   "outputs": [],
   "source": [
    "tripDays = df[(df['TRIPID']==df.shift(-1)['TRIPID']) &\\\n",
    "           (df['DAYOFSERVICE']==df.shift(-1)['DAYOFSERVICE']) &\\\n",
    "           (df['PROGRNUMBER']-df.shift(-1)['PROGRNUMBER']<-1)][['TRIPID', 'DAYOFSERVICE']]"
   ]
  },
  {
   "cell_type": "code",
   "execution_count": 1448,
   "id": "adjacent-plenty",
   "metadata": {},
   "outputs": [
    {
     "data": {
      "text/html": [
       "<div>\n",
       "<style scoped>\n",
       "    .dataframe tbody tr th:only-of-type {\n",
       "        vertical-align: middle;\n",
       "    }\n",
       "\n",
       "    .dataframe tbody tr th {\n",
       "        vertical-align: top;\n",
       "    }\n",
       "\n",
       "    .dataframe thead th {\n",
       "        text-align: right;\n",
       "    }\n",
       "</style>\n",
       "<table border=\"1\" class=\"dataframe\">\n",
       "  <thead>\n",
       "    <tr style=\"text-align: right;\">\n",
       "      <th></th>\n",
       "      <th>TRIPID</th>\n",
       "      <th>DAYOFSERVICE</th>\n",
       "    </tr>\n",
       "  </thead>\n",
       "  <tbody>\n",
       "  </tbody>\n",
       "</table>\n",
       "</div>"
      ],
      "text/plain": [
       "Empty DataFrame\n",
       "Columns: [TRIPID, DAYOFSERVICE]\n",
       "Index: []"
      ]
     },
     "execution_count": 1448,
     "metadata": {},
     "output_type": "execute_result"
    }
   ],
   "source": [
    "tripDays"
   ]
  },
  {
   "cell_type": "markdown",
   "id": "voluntary-sector",
   "metadata": {},
   "source": [
    "## target feature: journey time"
   ]
  },
  {
   "cell_type": "code",
   "execution_count": 1449,
   "id": "blank-miniature",
   "metadata": {},
   "outputs": [],
   "source": [
    "# make a dict\n",
    "journeyTimes = {}\n",
    "for i in range(df.shape[0]):\n",
    "    journeyTimes[i] = 0"
   ]
  },
  {
   "cell_type": "code",
   "execution_count": 1450,
   "id": "broke-spending",
   "metadata": {
    "scrolled": true
   },
   "outputs": [
    {
     "name": "stdout",
     "output_type": "stream",
     "text": [
      "0\n",
      "10000\n",
      "20000\n",
      "30000\n",
      "40000\n",
      "50000\n",
      "60000\n",
      "70000\n",
      "80000\n",
      "90000\n",
      "100000\n",
      "110000\n",
      "120000\n",
      "130000\n",
      "140000\n",
      "150000\n",
      "160000\n",
      "170000\n"
     ]
    }
   ],
   "source": [
    "# loop through from 1 to the end\n",
    "# the value of the index is the df current row actual arrival minus the df previous row actual departure\n",
    "\n",
    "for i in range(0, df.shape[0]-1):\n",
    "    if i % 10000 == 0:\n",
    "        print(i)\n",
    "    if df.loc[i, 'TRIPID'] == df.loc[i+1, 'TRIPID']:\n",
    "        journeyTimes[i] = (df.loc[i+1, 'ARR_ACT'] - df.loc[i, 'ARR_ACT'])"
   ]
  },
  {
   "cell_type": "code",
   "execution_count": 1451,
   "id": "round-syria",
   "metadata": {},
   "outputs": [],
   "source": [
    "# make into a dataframe\n",
    "journeyTimeDF = pd.DataFrame.from_dict(journeyTimes, orient='index', columns=['JOURNEYTIME'])"
   ]
  },
  {
   "cell_type": "code",
   "execution_count": 1452,
   "id": "wireless-bridal",
   "metadata": {},
   "outputs": [],
   "source": [
    "# combine with df\n",
    "df = df.join(journeyTimeDF)"
   ]
  },
  {
   "cell_type": "markdown",
   "id": "scheduled-focus",
   "metadata": {},
   "source": [
    "## Check for negative journey times"
   ]
  },
  {
   "cell_type": "code",
   "execution_count": 1453,
   "id": "thorough-smoke",
   "metadata": {},
   "outputs": [
    {
     "data": {
      "text/html": [
       "<div>\n",
       "<style scoped>\n",
       "    .dataframe tbody tr th:only-of-type {\n",
       "        vertical-align: middle;\n",
       "    }\n",
       "\n",
       "    .dataframe tbody tr th {\n",
       "        vertical-align: top;\n",
       "    }\n",
       "\n",
       "    .dataframe thead th {\n",
       "        text-align: right;\n",
       "    }\n",
       "</style>\n",
       "<table border=\"1\" class=\"dataframe\">\n",
       "  <thead>\n",
       "    <tr style=\"text-align: right;\">\n",
       "      <th></th>\n",
       "      <th>DAYOFSERVICE</th>\n",
       "      <th>TRIPID</th>\n",
       "      <th>PROGRNUMBER</th>\n",
       "      <th>STOPPOINTID</th>\n",
       "      <th>ARR/DEP_PLAN</th>\n",
       "      <th>ARR_ACT</th>\n",
       "      <th>DEP_ACT</th>\n",
       "      <th>ROUTEID</th>\n",
       "      <th>DIRECTION</th>\n",
       "      <th>MONTH</th>\n",
       "      <th>WEEKDAY</th>\n",
       "      <th>HOUR</th>\n",
       "      <th>JOURNEYTIME</th>\n",
       "    </tr>\n",
       "  </thead>\n",
       "  <tbody>\n",
       "    <tr>\n",
       "      <th>48876</th>\n",
       "      <td>2018-04-13</td>\n",
       "      <td>6627218</td>\n",
       "      <td>2</td>\n",
       "      <td>4323</td>\n",
       "      <td>29852</td>\n",
       "      <td>33095</td>\n",
       "      <td>33105</td>\n",
       "      <td>270_42</td>\n",
       "      <td>1</td>\n",
       "      <td>4</td>\n",
       "      <td>4</td>\n",
       "      <td>8</td>\n",
       "      <td>-2713</td>\n",
       "    </tr>\n",
       "  </tbody>\n",
       "</table>\n",
       "</div>"
      ],
      "text/plain": [
       "      DAYOFSERVICE   TRIPID  PROGRNUMBER  STOPPOINTID  ARR/DEP_PLAN  ARR_ACT  \\\n",
       "48876   2018-04-13  6627218            2         4323         29852    33095   \n",
       "\n",
       "       DEP_ACT ROUTEID  DIRECTION  MONTH  WEEKDAY  HOUR  JOURNEYTIME  \n",
       "48876    33105  270_42          1      4        4     8        -2713  "
      ]
     },
     "execution_count": 1453,
     "metadata": {},
     "output_type": "execute_result"
    }
   ],
   "source": [
    "df[df['JOURNEYTIME']<0]"
   ]
  },
  {
   "cell_type": "markdown",
   "id": "dutch-portable",
   "metadata": {},
   "source": [
    "## If there negative journeytimes:\n",
    "\n",
    "### As we can see, we have journeys with negative JOURNEYTIME times. We will find each of these entire trips and drop them all."
   ]
  },
  {
   "cell_type": "code",
   "execution_count": 1454,
   "id": "functioning-position",
   "metadata": {},
   "outputs": [],
   "source": [
    "# get a list of the dates with the negative journeytimes\n",
    "negDays = list(df[df['JOURNEYTIME']<0]['DAYOFSERVICE'])"
   ]
  },
  {
   "cell_type": "code",
   "execution_count": 1455,
   "id": "catholic-contrast",
   "metadata": {},
   "outputs": [],
   "source": [
    "# get a list of the trip IDs with the negative journey times\n",
    "negTripIDs = list(df[df['JOURNEYTIME']<0]['TRIPID'])"
   ]
  },
  {
   "cell_type": "code",
   "execution_count": 1456,
   "id": "aware-nurse",
   "metadata": {},
   "outputs": [],
   "source": [
    "# drop all rows that have the DAYOFSERVICE and TRIPID values at both of their respective indexes\n",
    "# This means any rows that have a DAYOFSERVICE value at index 0 of the dropDays list AND a TRIPID value \n",
    "# at index 0 of the dropTripIDs list\n",
    "\n",
    "for i in range(len(negDays)):\n",
    "#     for debugging:\n",
    "#     if i%10==0:\n",
    "#         print(i)\n",
    "    dropindex = df[(df['DAYOFSERVICE']==negDays[i])&\\\n",
    "                           (df['TRIPID']==negTripIDs[i])].index\n",
    "    df.drop(dropindex, inplace=True)"
   ]
  },
  {
   "cell_type": "markdown",
   "id": "military-subdivision",
   "metadata": {},
   "source": [
    "### Final check for negative journey times"
   ]
  },
  {
   "cell_type": "code",
   "execution_count": 1457,
   "id": "binary-letters",
   "metadata": {},
   "outputs": [
    {
     "data": {
      "text/html": [
       "<div>\n",
       "<style scoped>\n",
       "    .dataframe tbody tr th:only-of-type {\n",
       "        vertical-align: middle;\n",
       "    }\n",
       "\n",
       "    .dataframe tbody tr th {\n",
       "        vertical-align: top;\n",
       "    }\n",
       "\n",
       "    .dataframe thead th {\n",
       "        text-align: right;\n",
       "    }\n",
       "</style>\n",
       "<table border=\"1\" class=\"dataframe\">\n",
       "  <thead>\n",
       "    <tr style=\"text-align: right;\">\n",
       "      <th></th>\n",
       "      <th>DAYOFSERVICE</th>\n",
       "      <th>TRIPID</th>\n",
       "      <th>PROGRNUMBER</th>\n",
       "      <th>STOPPOINTID</th>\n",
       "      <th>ARR/DEP_PLAN</th>\n",
       "      <th>ARR_ACT</th>\n",
       "      <th>DEP_ACT</th>\n",
       "      <th>ROUTEID</th>\n",
       "      <th>DIRECTION</th>\n",
       "      <th>MONTH</th>\n",
       "      <th>WEEKDAY</th>\n",
       "      <th>HOUR</th>\n",
       "      <th>JOURNEYTIME</th>\n",
       "    </tr>\n",
       "  </thead>\n",
       "  <tbody>\n",
       "  </tbody>\n",
       "</table>\n",
       "</div>"
      ],
      "text/plain": [
       "Empty DataFrame\n",
       "Columns: [DAYOFSERVICE, TRIPID, PROGRNUMBER, STOPPOINTID, ARR/DEP_PLAN, ARR_ACT, DEP_ACT, ROUTEID, DIRECTION, MONTH, WEEKDAY, HOUR, JOURNEYTIME]\n",
       "Index: []"
      ]
     },
     "execution_count": 1457,
     "metadata": {},
     "output_type": "execute_result"
    }
   ],
   "source": [
    "df[df['JOURNEYTIME']<0]"
   ]
  },
  {
   "cell_type": "code",
   "execution_count": 1458,
   "id": "judicial-importance",
   "metadata": {},
   "outputs": [],
   "source": [
    "df.reset_index(drop=True, inplace=True)"
   ]
  },
  {
   "cell_type": "markdown",
   "id": "adjustable-southwest",
   "metadata": {},
   "source": [
    "## Remove outliers in terms of journey time"
   ]
  },
  {
   "cell_type": "markdown",
   "id": "civil-settlement",
   "metadata": {},
   "source": [
    "### remove outliers in terms of the standard deviation"
   ]
  },
  {
   "cell_type": "code",
   "execution_count": 1459,
   "id": "decimal-binding",
   "metadata": {},
   "outputs": [],
   "source": [
    "outliersIndexList = []\n",
    "\n",
    "for routeid in df['ROUTEID'].unique():\n",
    "    \n",
    "    routeidDF = df[df['ROUTEID']==routeid]\n",
    "    \n",
    "    for progrnumber in df[df['ROUTEID']==routeid]['PROGRNUMBER'].unique():\n",
    "        \n",
    "        workingDF0 = routeidDF[routeidDF['PROGRNUMBER']==progrnumber]\n",
    "        \n",
    "        upper = (workingDF0['JOURNEYTIME'].mean())+(3*(workingDF0['JOURNEYTIME'].std()))\n",
    "        lower = (workingDF0['JOURNEYTIME'].mean())-(3*(workingDF0['JOURNEYTIME'].std()))\n",
    "        \n",
    "        outliers = workingDF0[(workingDF0['JOURNEYTIME']>upper)|(workingDF0['JOURNEYTIME']<lower)].index\n",
    "        outliersIndexList.append(outliers)"
   ]
  },
  {
   "cell_type": "code",
   "execution_count": 1460,
   "id": "encouraging-jacksonville",
   "metadata": {},
   "outputs": [],
   "source": [
    "OutliersIndexList = []\n",
    "\n",
    "for i in outliersIndexList:\n",
    "    for j in i:\n",
    "        OutliersIndexList.append(j)"
   ]
  },
  {
   "cell_type": "code",
   "execution_count": 1461,
   "id": "effective-stupid",
   "metadata": {},
   "outputs": [],
   "source": [
    "df.drop(df.index[OutliersIndexList], inplace=True)"
   ]
  },
  {
   "cell_type": "code",
   "execution_count": 1462,
   "id": "eligible-decision",
   "metadata": {},
   "outputs": [],
   "source": [
    "df.reset_index(inplace=True, drop=True)"
   ]
  },
  {
   "cell_type": "markdown",
   "id": "employed-surgery",
   "metadata": {},
   "source": [
    "## add a feature: end stop\n",
    "- and rename STOPPOINTID to startStop"
   ]
  },
  {
   "cell_type": "code",
   "execution_count": 1463,
   "id": "directed-evidence",
   "metadata": {},
   "outputs": [],
   "source": [
    "df.rename(columns={'STOPPOINTID':'startStop'}, inplace=True)"
   ]
  },
  {
   "cell_type": "code",
   "execution_count": 1464,
   "id": "seven-photograph",
   "metadata": {},
   "outputs": [],
   "source": [
    "df['endStop'] = 'N/A'"
   ]
  },
  {
   "cell_type": "code",
   "execution_count": 1465,
   "id": "built-buying",
   "metadata": {},
   "outputs": [],
   "source": [
    "df.loc[(df['TRIPID']==df['TRIPID'].shift(-1)), 'endStop'] = df['startStop'].shift(-1)"
   ]
  },
  {
   "cell_type": "markdown",
   "id": "electrical-bundle",
   "metadata": {},
   "source": [
    "## Remove all rows that have an endStop value of 'N/A'"
   ]
  },
  {
   "cell_type": "code",
   "execution_count": 1466,
   "id": "tested-court",
   "metadata": {},
   "outputs": [],
   "source": [
    "dropIndex = list(df[df['endStop']=='N/A'].index)"
   ]
  },
  {
   "cell_type": "code",
   "execution_count": 1467,
   "id": "compatible-wagner",
   "metadata": {},
   "outputs": [],
   "source": [
    "df.drop(dropIndex, inplace=True)"
   ]
  },
  {
   "cell_type": "code",
   "execution_count": 1468,
   "id": "incorrect-triple",
   "metadata": {},
   "outputs": [],
   "source": [
    "df.reset_index(drop=True, inplace=True)"
   ]
  },
  {
   "cell_type": "markdown",
   "id": "devoted-joining",
   "metadata": {},
   "source": [
    "## Merge with weather dataframe\n",
    "- create DAYHOUR to combine two dataframes on"
   ]
  },
  {
   "cell_type": "code",
   "execution_count": 1469,
   "id": "ordered-profit",
   "metadata": {},
   "outputs": [],
   "source": [
    "df['DAYHOUR'] = df['DAYOFSERVICE'] + pd.to_timedelta(df['HOUR'], unit='H')"
   ]
  },
  {
   "cell_type": "code",
   "execution_count": 1470,
   "id": "billion-northwest",
   "metadata": {},
   "outputs": [],
   "source": [
    "weather = pd.read_csv('weatherData_CLEANED.csv')\n",
    "weather['DAYHOUR'] = pd.to_datetime(weather['DAYHOUR'])"
   ]
  },
  {
   "cell_type": "markdown",
   "id": "lesser-model",
   "metadata": {},
   "source": [
    "- drop descriptive weather features"
   ]
  },
  {
   "cell_type": "code",
   "execution_count": 1471,
   "id": "brief-tumor",
   "metadata": {},
   "outputs": [],
   "source": [
    "weather.reset_index(drop=True, inplace=True)"
   ]
  },
  {
   "cell_type": "code",
   "execution_count": 1472,
   "id": "outside-joining",
   "metadata": {},
   "outputs": [],
   "source": [
    "weather.drop(columns=['weather_main', 'weather_description'], inplace=True)"
   ]
  },
  {
   "cell_type": "markdown",
   "id": "beneficial-france",
   "metadata": {},
   "source": [
    "- add precipitation feature"
   ]
  },
  {
   "cell_type": "code",
   "execution_count": 1473,
   "id": "functional-antigua",
   "metadata": {},
   "outputs": [],
   "source": [
    "# change nan values to 0 for rain and snow\n",
    "nullRain = weather.loc[pd.isnull(weather['rain_1h']), 'rain_1h'].index\n",
    "weather.loc[nullRain, 'rain_1h'] = 0\n",
    "\n",
    "nullSnow = weather.loc[pd.isnull(weather['snow_1h']), 'snow_1h'].index\n",
    "weather.loc[nullSnow, 'snow_1h'] = 0"
   ]
  },
  {
   "cell_type": "code",
   "execution_count": 1474,
   "id": "herbal-entity",
   "metadata": {},
   "outputs": [],
   "source": [
    "weather['precipitation_1h'] = ((weather['rain_1h']) + (weather['snow_1h']))"
   ]
  },
  {
   "cell_type": "code",
   "execution_count": 1475,
   "id": "traditional-insight",
   "metadata": {},
   "outputs": [],
   "source": [
    "weather.drop(columns=['rain_1h', 'snow_1h'], inplace=True)"
   ]
  },
  {
   "cell_type": "markdown",
   "id": "unable-header",
   "metadata": {},
   "source": [
    "### Change precipitation values that are NaN to 0"
   ]
  },
  {
   "cell_type": "code",
   "execution_count": 1476,
   "id": "civil-atmosphere",
   "metadata": {},
   "outputs": [
    {
     "data": {
      "text/html": [
       "<div>\n",
       "<style scoped>\n",
       "    .dataframe tbody tr th:only-of-type {\n",
       "        vertical-align: middle;\n",
       "    }\n",
       "\n",
       "    .dataframe tbody tr th {\n",
       "        vertical-align: top;\n",
       "    }\n",
       "\n",
       "    .dataframe thead th {\n",
       "        text-align: right;\n",
       "    }\n",
       "</style>\n",
       "<table border=\"1\" class=\"dataframe\">\n",
       "  <thead>\n",
       "    <tr style=\"text-align: right;\">\n",
       "      <th></th>\n",
       "      <th>DAYOFSERVICE</th>\n",
       "      <th>TRIPID</th>\n",
       "      <th>PROGRNUMBER</th>\n",
       "      <th>startStop</th>\n",
       "      <th>ARR/DEP_PLAN</th>\n",
       "      <th>ARR_ACT</th>\n",
       "      <th>DEP_ACT</th>\n",
       "      <th>ROUTEID</th>\n",
       "      <th>DIRECTION</th>\n",
       "      <th>MONTH</th>\n",
       "      <th>WEEKDAY</th>\n",
       "      <th>HOUR</th>\n",
       "      <th>JOURNEYTIME</th>\n",
       "      <th>endStop</th>\n",
       "      <th>temp</th>\n",
       "      <th>humidity</th>\n",
       "      <th>wind_speed</th>\n",
       "      <th>precipitation_1h</th>\n",
       "    </tr>\n",
       "  </thead>\n",
       "  <tbody>\n",
       "    <tr>\n",
       "      <th>0</th>\n",
       "      <td>2018-01-01</td>\n",
       "      <td>5957560</td>\n",
       "      <td>1</td>\n",
       "      <td>3333</td>\n",
       "      <td>38400</td>\n",
       "      <td>38422</td>\n",
       "      <td>38422</td>\n",
       "      <td>270_44</td>\n",
       "      <td>2</td>\n",
       "      <td>1</td>\n",
       "      <td>0</td>\n",
       "      <td>10</td>\n",
       "      <td>54</td>\n",
       "      <td>3334.0</td>\n",
       "      <td>5.02</td>\n",
       "      <td>81</td>\n",
       "      <td>9.77</td>\n",
       "      <td>0.0</td>\n",
       "    </tr>\n",
       "    <tr>\n",
       "      <th>1</th>\n",
       "      <td>2018-01-01</td>\n",
       "      <td>5957560</td>\n",
       "      <td>2</td>\n",
       "      <td>3334</td>\n",
       "      <td>38464</td>\n",
       "      <td>38476</td>\n",
       "      <td>38487</td>\n",
       "      <td>270_44</td>\n",
       "      <td>2</td>\n",
       "      <td>1</td>\n",
       "      <td>0</td>\n",
       "      <td>10</td>\n",
       "      <td>36</td>\n",
       "      <td>3352.0</td>\n",
       "      <td>5.02</td>\n",
       "      <td>81</td>\n",
       "      <td>9.77</td>\n",
       "      <td>0.0</td>\n",
       "    </tr>\n",
       "    <tr>\n",
       "      <th>2</th>\n",
       "      <td>2018-01-01</td>\n",
       "      <td>5957560</td>\n",
       "      <td>3</td>\n",
       "      <td>3352</td>\n",
       "      <td>38525</td>\n",
       "      <td>38512</td>\n",
       "      <td>38512</td>\n",
       "      <td>270_44</td>\n",
       "      <td>2</td>\n",
       "      <td>1</td>\n",
       "      <td>0</td>\n",
       "      <td>10</td>\n",
       "      <td>46</td>\n",
       "      <td>3335.0</td>\n",
       "      <td>5.02</td>\n",
       "      <td>81</td>\n",
       "      <td>9.77</td>\n",
       "      <td>0.0</td>\n",
       "    </tr>\n",
       "    <tr>\n",
       "      <th>3</th>\n",
       "      <td>2018-01-01</td>\n",
       "      <td>5957560</td>\n",
       "      <td>4</td>\n",
       "      <td>3335</td>\n",
       "      <td>38570</td>\n",
       "      <td>38558</td>\n",
       "      <td>38558</td>\n",
       "      <td>270_44</td>\n",
       "      <td>2</td>\n",
       "      <td>1</td>\n",
       "      <td>0</td>\n",
       "      <td>10</td>\n",
       "      <td>38</td>\n",
       "      <td>3336.0</td>\n",
       "      <td>5.02</td>\n",
       "      <td>81</td>\n",
       "      <td>9.77</td>\n",
       "      <td>0.0</td>\n",
       "    </tr>\n",
       "    <tr>\n",
       "      <th>4</th>\n",
       "      <td>2018-01-01</td>\n",
       "      <td>5957560</td>\n",
       "      <td>5</td>\n",
       "      <td>3336</td>\n",
       "      <td>38609</td>\n",
       "      <td>38596</td>\n",
       "      <td>38596</td>\n",
       "      <td>270_44</td>\n",
       "      <td>2</td>\n",
       "      <td>1</td>\n",
       "      <td>0</td>\n",
       "      <td>10</td>\n",
       "      <td>22</td>\n",
       "      <td>3337.0</td>\n",
       "      <td>5.02</td>\n",
       "      <td>81</td>\n",
       "      <td>9.77</td>\n",
       "      <td>0.0</td>\n",
       "    </tr>\n",
       "    <tr>\n",
       "      <th>...</th>\n",
       "      <td>...</td>\n",
       "      <td>...</td>\n",
       "      <td>...</td>\n",
       "      <td>...</td>\n",
       "      <td>...</td>\n",
       "      <td>...</td>\n",
       "      <td>...</td>\n",
       "      <td>...</td>\n",
       "      <td>...</td>\n",
       "      <td>...</td>\n",
       "      <td>...</td>\n",
       "      <td>...</td>\n",
       "      <td>...</td>\n",
       "      <td>...</td>\n",
       "      <td>...</td>\n",
       "      <td>...</td>\n",
       "      <td>...</td>\n",
       "      <td>...</td>\n",
       "    </tr>\n",
       "    <tr>\n",
       "      <th>164329</th>\n",
       "      <td>2018-12-31</td>\n",
       "      <td>8579749</td>\n",
       "      <td>12</td>\n",
       "      <td>3329</td>\n",
       "      <td>49465</td>\n",
       "      <td>49707</td>\n",
       "      <td>49707</td>\n",
       "      <td>270_42</td>\n",
       "      <td>1</td>\n",
       "      <td>12</td>\n",
       "      <td>0</td>\n",
       "      <td>13</td>\n",
       "      <td>22</td>\n",
       "      <td>3330.0</td>\n",
       "      <td>9.85</td>\n",
       "      <td>71</td>\n",
       "      <td>4.10</td>\n",
       "      <td>0.0</td>\n",
       "    </tr>\n",
       "    <tr>\n",
       "      <th>164330</th>\n",
       "      <td>2018-12-31</td>\n",
       "      <td>8579749</td>\n",
       "      <td>13</td>\n",
       "      <td>3330</td>\n",
       "      <td>49479</td>\n",
       "      <td>49729</td>\n",
       "      <td>49729</td>\n",
       "      <td>270_42</td>\n",
       "      <td>1</td>\n",
       "      <td>12</td>\n",
       "      <td>0</td>\n",
       "      <td>13</td>\n",
       "      <td>48</td>\n",
       "      <td>3331.0</td>\n",
       "      <td>9.85</td>\n",
       "      <td>71</td>\n",
       "      <td>4.10</td>\n",
       "      <td>0.0</td>\n",
       "    </tr>\n",
       "    <tr>\n",
       "      <th>164331</th>\n",
       "      <td>2018-12-31</td>\n",
       "      <td>8579749</td>\n",
       "      <td>14</td>\n",
       "      <td>3331</td>\n",
       "      <td>49523</td>\n",
       "      <td>49777</td>\n",
       "      <td>49777</td>\n",
       "      <td>270_42</td>\n",
       "      <td>1</td>\n",
       "      <td>12</td>\n",
       "      <td>0</td>\n",
       "      <td>13</td>\n",
       "      <td>43</td>\n",
       "      <td>3351.0</td>\n",
       "      <td>9.85</td>\n",
       "      <td>71</td>\n",
       "      <td>4.10</td>\n",
       "      <td>0.0</td>\n",
       "    </tr>\n",
       "    <tr>\n",
       "      <th>164332</th>\n",
       "      <td>2018-12-31</td>\n",
       "      <td>8579749</td>\n",
       "      <td>15</td>\n",
       "      <td>3351</td>\n",
       "      <td>49558</td>\n",
       "      <td>49820</td>\n",
       "      <td>49830</td>\n",
       "      <td>270_42</td>\n",
       "      <td>1</td>\n",
       "      <td>12</td>\n",
       "      <td>0</td>\n",
       "      <td>13</td>\n",
       "      <td>107</td>\n",
       "      <td>3332.0</td>\n",
       "      <td>9.85</td>\n",
       "      <td>71</td>\n",
       "      <td>4.10</td>\n",
       "      <td>0.0</td>\n",
       "    </tr>\n",
       "    <tr>\n",
       "      <th>164333</th>\n",
       "      <td>2018-12-31</td>\n",
       "      <td>8579749</td>\n",
       "      <td>16</td>\n",
       "      <td>3332</td>\n",
       "      <td>49685</td>\n",
       "      <td>49927</td>\n",
       "      <td>49966</td>\n",
       "      <td>270_42</td>\n",
       "      <td>1</td>\n",
       "      <td>12</td>\n",
       "      <td>0</td>\n",
       "      <td>13</td>\n",
       "      <td>86</td>\n",
       "      <td>3333.0</td>\n",
       "      <td>9.85</td>\n",
       "      <td>71</td>\n",
       "      <td>4.10</td>\n",
       "      <td>0.0</td>\n",
       "    </tr>\n",
       "  </tbody>\n",
       "</table>\n",
       "<p>164334 rows × 18 columns</p>\n",
       "</div>"
      ],
      "text/plain": [
       "       DAYOFSERVICE   TRIPID  PROGRNUMBER  startStop  ARR/DEP_PLAN  ARR_ACT  \\\n",
       "0        2018-01-01  5957560            1       3333         38400    38422   \n",
       "1        2018-01-01  5957560            2       3334         38464    38476   \n",
       "2        2018-01-01  5957560            3       3352         38525    38512   \n",
       "3        2018-01-01  5957560            4       3335         38570    38558   \n",
       "4        2018-01-01  5957560            5       3336         38609    38596   \n",
       "...             ...      ...          ...        ...           ...      ...   \n",
       "164329   2018-12-31  8579749           12       3329         49465    49707   \n",
       "164330   2018-12-31  8579749           13       3330         49479    49729   \n",
       "164331   2018-12-31  8579749           14       3331         49523    49777   \n",
       "164332   2018-12-31  8579749           15       3351         49558    49820   \n",
       "164333   2018-12-31  8579749           16       3332         49685    49927   \n",
       "\n",
       "        DEP_ACT ROUTEID  DIRECTION  MONTH  WEEKDAY  HOUR  JOURNEYTIME endStop  \\\n",
       "0         38422  270_44          2      1        0    10           54  3334.0   \n",
       "1         38487  270_44          2      1        0    10           36  3352.0   \n",
       "2         38512  270_44          2      1        0    10           46  3335.0   \n",
       "3         38558  270_44          2      1        0    10           38  3336.0   \n",
       "4         38596  270_44          2      1        0    10           22  3337.0   \n",
       "...         ...     ...        ...    ...      ...   ...          ...     ...   \n",
       "164329    49707  270_42          1     12        0    13           22  3330.0   \n",
       "164330    49729  270_42          1     12        0    13           48  3331.0   \n",
       "164331    49777  270_42          1     12        0    13           43  3351.0   \n",
       "164332    49830  270_42          1     12        0    13          107  3332.0   \n",
       "164333    49966  270_42          1     12        0    13           86  3333.0   \n",
       "\n",
       "        temp  humidity  wind_speed  precipitation_1h  \n",
       "0       5.02        81        9.77               0.0  \n",
       "1       5.02        81        9.77               0.0  \n",
       "2       5.02        81        9.77               0.0  \n",
       "3       5.02        81        9.77               0.0  \n",
       "4       5.02        81        9.77               0.0  \n",
       "...      ...       ...         ...               ...  \n",
       "164329  9.85        71        4.10               0.0  \n",
       "164330  9.85        71        4.10               0.0  \n",
       "164331  9.85        71        4.10               0.0  \n",
       "164332  9.85        71        4.10               0.0  \n",
       "164333  9.85        71        4.10               0.0  \n",
       "\n",
       "[164334 rows x 18 columns]"
      ]
     },
     "execution_count": 1476,
     "metadata": {},
     "output_type": "execute_result"
    }
   ],
   "source": [
    "df = pd.merge(df, weather, on=['DAYHOUR'])\n",
    "df.drop(columns=['DAYHOUR'])"
   ]
  },
  {
   "cell_type": "code",
   "execution_count": 1477,
   "id": "wound-channel",
   "metadata": {},
   "outputs": [],
   "source": [
    "df = df[['DIRECTION', 'MONTH', 'WEEKDAY', 'HOUR', 'startStop', 'endStop', 'ARR_ACT', 'DEP_ACT', 'JOURNEYTIME',\\\n",
    "        'temp', 'humidity', 'wind_speed', 'precipitation_1h']]"
   ]
  },
  {
   "cell_type": "markdown",
   "id": "practical-voluntary",
   "metadata": {},
   "source": [
    "## Save df as csv file"
   ]
  },
  {
   "cell_type": "code",
   "execution_count": 1478,
   "id": "korean-dryer",
   "metadata": {},
   "outputs": [],
   "source": [
    "df.to_csv(f'lines/{routeNum}/{routeNum}_MODELING.csv', index_label=False)"
   ]
  },
  {
   "cell_type": "code",
   "execution_count": 1479,
   "id": "british-sellers",
   "metadata": {},
   "outputs": [
    {
     "data": {
      "text/plain": [
       "'270'"
      ]
     },
     "execution_count": 1479,
     "metadata": {},
     "output_type": "execute_result"
    }
   ],
   "source": [
    "routeNum"
   ]
  },
  {
   "cell_type": "code",
   "execution_count": null,
   "id": "wired-feeling",
   "metadata": {},
   "outputs": [],
   "source": []
  }
 ],
 "metadata": {
  "kernelspec": {
   "display_name": "Python 3",
   "language": "python",
   "name": "python3"
  },
  "language_info": {
   "codemirror_mode": {
    "name": "ipython",
    "version": 3
   },
   "file_extension": ".py",
   "mimetype": "text/x-python",
   "name": "python",
   "nbconvert_exporter": "python",
   "pygments_lexer": "ipython3",
   "version": "3.8.5"
  }
 },
 "nbformat": 4,
 "nbformat_minor": 5
}
