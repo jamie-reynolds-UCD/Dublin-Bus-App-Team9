{
 "cells": [
  {
   "cell_type": "code",
   "execution_count": 1,
   "id": "386506ce",
   "metadata": {},
   "outputs": [],
   "source": [
    "import pandas as pd\n",
    "import datetime as dt\n",
    "from matplotlib import pyplot as plt"
   ]
  },
  {
   "cell_type": "code",
   "execution_count": 53,
   "id": "f1f441f0",
   "metadata": {},
   "outputs": [],
   "source": [
    "routeNum = '68'\n",
    "df = pd.read_csv(f'{routeNum}/{routeNum}_DF.csv')"
   ]
  },
  {
   "cell_type": "code",
   "execution_count": 54,
   "id": "0bb95159",
   "metadata": {},
   "outputs": [
    {
     "data": {
      "text/plain": [
       "Index(['DATASOURCE', 'DAYOFSERVICE', 'TRIPID', 'PROGRNUMBER', 'STOPPOINTID',\n",
       "       'PLANNEDTIME_ARR', 'PLANNEDTIME_DEP', 'ACTUALTIME_ARR',\n",
       "       'ACTUALTIME_DEP', 'VEHICLEID', 'PASSENGERS', 'PASSENGERSIN',\n",
       "       'PASSENGERSOUT', 'DISTANCE', 'SUPPRESSED', 'JUSTIFICATIONID',\n",
       "       'LASTUPDATE', 'NOTE', 'ROUTEID', 'DIRECTION'],\n",
       "      dtype='object')"
      ]
     },
     "execution_count": 54,
     "metadata": {},
     "output_type": "execute_result"
    }
   ],
   "source": [
    "df.columns"
   ]
  },
  {
   "cell_type": "markdown",
   "id": "7ffcb7c6",
   "metadata": {},
   "source": [
    "# Prepare a data quality plan for the cleaned CSV file.\n",
    "\n",
    "## List of issues identified in the data quality Report:\n",
    "- Constant columns: DATASOURCE has just 1 unique value, so it is a constant column\n",
    "- Empty columns: PASSENGERS, PASSENGERSIN, PASSENGERSOUT, DISTANCE, and NOTE all have 0 values, so they are empty columns\n",
    "- Duplicate columns: ARR_PLAN and DEP_PLAN are duplicates of one another\n",
    "- Missing values: SUPPRESSED and JUSTIFICATIONID are missing over 99% of their values"
   ]
  },
  {
   "cell_type": "markdown",
   "id": "58fe08b5",
   "metadata": {},
   "source": [
    "## Propose solutions to deal with the problems identified.  "
   ]
  },
  {
   "cell_type": "markdown",
   "id": "a4974cf1",
   "metadata": {},
   "source": [
    "#### 1. Constant columns\n",
    "- DATASOURCE will be dropped as it only contains one value, that is not useful for prediction.\n",
    "\n",
    "#### 2. Empty columns\n",
    "- PASSENGERS\n",
    "- PASSENGERSIN\n",
    "- PASSENGERSOUT\n",
    "- DISTANCE\n",
    "- NOTE\n",
    "<br>\n",
    "\n",
    "- **each of these columns will be dropped as they are all completely empty**\n",
    "\n",
    "#### 3. Duplicate columns\n",
    "- DEP_PLAN will be dropped as it is a duplicate column of ARR_PLAN.\n",
    "- ARR_PLAN will be renamed to ARR/DEP_PLAN\n",
    "\n",
    "#### 4. Missing values\n",
    "- trips with a SUPPRESSED value of 1.0 will be dropped\n",
    "    - Less than 0.5% of the entries in the database are suppressed, and suppressed journeys will corrupt the prediction of journey times.\n",
    "- SUPPRESSED will be dropped as it is missing over 99% of its values\n",
    "- JUSTIFICATIONID will be dropped as it is missing over 99% of its values\n",
    "\n",
    "#### 5. Irrelevant values\n",
    "- The LASTUPDATE value is irrelevant. It only refers to the last day that the data was updated. It is not relevant to predicting journey times, so we will drop the column.\n",
    "- It is unlikely that we will be able to know which VEHICLEID is scheduled for each day, so it will not have much use in predicting arrival times of buses. Therefore, we will drop the column"
   ]
  },
  {
   "cell_type": "code",
   "execution_count": 55,
   "id": "212c1305",
   "metadata": {},
   "outputs": [],
   "source": [
    "# Constant columns\n",
    "df.drop(columns=['DATASOURCE'], inplace=True)"
   ]
  },
  {
   "cell_type": "code",
   "execution_count": 56,
   "id": "59d5f765",
   "metadata": {},
   "outputs": [],
   "source": [
    "# Empty columns\n",
    "df.drop(columns=['PASSENGERS', 'PASSENGERSIN', 'PASSENGERSOUT', 'DISTANCE', 'NOTE'], inplace=True)"
   ]
  },
  {
   "cell_type": "code",
   "execution_count": 57,
   "id": "48e51d86",
   "metadata": {},
   "outputs": [],
   "source": [
    "# Duplicate columns\n",
    "df.drop(columns=['PLANNEDTIME_DEP'], inplace=True)"
   ]
  },
  {
   "cell_type": "code",
   "execution_count": 58,
   "id": "e9971cd0",
   "metadata": {},
   "outputs": [],
   "source": [
    "# rename DEP_PLAN column\n",
    "df.rename(columns={'PLANNEDTIME_ARR':'ARR/DEP_PLAN'}, inplace=True)\n",
    "df.rename(columns={'ACTUALTIME_ARR':'ARR_ACT'}, inplace=True)\n",
    "df.rename(columns={'ACTUALTIME_DEP':'DEP_ACT'}, inplace=True)"
   ]
  },
  {
   "cell_type": "code",
   "execution_count": 59,
   "id": "59945c20",
   "metadata": {},
   "outputs": [],
   "source": [
    "# first drop any trips that have a SUPPRESSED value of 1.0\n",
    "\n",
    "# get all DAYOFSERVICE and TRIPID that have a SUPPRESSED value of 1.0\n",
    "suppressed = df[df['SUPPRESSED']==1.0][['TRIPID', 'DAYOFSERVICE']]"
   ]
  },
  {
   "cell_type": "code",
   "execution_count": 60,
   "id": "wound-failing",
   "metadata": {},
   "outputs": [],
   "source": [
    "suppressed.reset_index(drop=True, inplace=True)"
   ]
  },
  {
   "cell_type": "code",
   "execution_count": 61,
   "id": "prerequisite-agency",
   "metadata": {},
   "outputs": [
    {
     "data": {
      "text/plain": [
       "264"
      ]
     },
     "execution_count": 61,
     "metadata": {},
     "output_type": "execute_result"
    }
   ],
   "source": [
    "suppressed.shape[0]"
   ]
  },
  {
   "cell_type": "code",
   "execution_count": 62,
   "id": "insured-vaccine",
   "metadata": {
    "scrolled": true
   },
   "outputs": [
    {
     "name": "stdout",
     "output_type": "stream",
     "text": [
      "0\n",
      "10\n",
      "20\n",
      "30\n",
      "40\n",
      "50\n",
      "60\n",
      "70\n",
      "80\n",
      "90\n",
      "100\n",
      "110\n",
      "120\n",
      "130\n",
      "140\n",
      "150\n",
      "160\n",
      "170\n",
      "180\n",
      "190\n",
      "200\n",
      "210\n",
      "220\n",
      "230\n",
      "240\n",
      "250\n",
      "260\n"
     ]
    }
   ],
   "source": [
    "dropIndex = []\n",
    "for i in range(suppressed.shape[0]):\n",
    "    if i % 10==0:\n",
    "        print(i)\n",
    "    workingDF = df[(df['TRIPID']==suppressed.loc[i,'TRIPID'])&\\\n",
    "                  (df['DAYOFSERVICE']==suppressed.loc[i,'DAYOFSERVICE'])]\n",
    "    dropIndex.append(workingDF.index)"
   ]
  },
  {
   "cell_type": "code",
   "execution_count": 63,
   "id": "auburn-sacramento",
   "metadata": {},
   "outputs": [],
   "source": [
    "DropIndex = []\n",
    "for i in dropIndex:\n",
    "    for j in i:\n",
    "        DropIndex.append(j)  "
   ]
  },
  {
   "cell_type": "code",
   "execution_count": 64,
   "id": "frozen-surgeon",
   "metadata": {},
   "outputs": [],
   "source": [
    "df.drop(DropIndex, inplace=True)"
   ]
  },
  {
   "cell_type": "code",
   "execution_count": 65,
   "id": "outstanding-tower",
   "metadata": {},
   "outputs": [],
   "source": [
    "df.reset_index(drop=True, inplace=True)"
   ]
  },
  {
   "cell_type": "code",
   "execution_count": 66,
   "id": "86167482",
   "metadata": {},
   "outputs": [],
   "source": [
    "# Then drop SUPPRESSED and JUSTIFICATIONID columns\n",
    "df.drop(columns=['SUPPRESSED', 'JUSTIFICATIONID'], inplace=True)"
   ]
  },
  {
   "cell_type": "code",
   "execution_count": 67,
   "id": "8f0c8584",
   "metadata": {},
   "outputs": [],
   "source": [
    "# drop LASTUPDATE\n",
    "df.drop(columns=['LASTUPDATE'], inplace=True)"
   ]
  },
  {
   "cell_type": "code",
   "execution_count": 68,
   "id": "6cbcb903",
   "metadata": {},
   "outputs": [],
   "source": [
    "# drop VEHICLEID\n",
    "df.drop(columns=['VEHICLEID'], inplace=True)"
   ]
  },
  {
   "cell_type": "markdown",
   "id": "42fcdce5",
   "metadata": {},
   "source": [
    "## Save the cleaned dataframe to a csv"
   ]
  },
  {
   "cell_type": "code",
   "execution_count": 69,
   "id": "cae1439f",
   "metadata": {},
   "outputs": [],
   "source": [
    "df.to_csv(f'{routeNum}/{routeNum}_DQP_cleanedCSV.csv', index_label=False)"
   ]
  },
  {
   "cell_type": "code",
   "execution_count": null,
   "id": "adjacent-balloon",
   "metadata": {},
   "outputs": [],
   "source": []
  }
 ],
 "metadata": {
  "kernelspec": {
   "display_name": "Python 3",
   "language": "python",
   "name": "python3"
  },
  "language_info": {
   "codemirror_mode": {
    "name": "ipython",
    "version": 3
   },
   "file_extension": ".py",
   "mimetype": "text/x-python",
   "name": "python",
   "nbconvert_exporter": "python",
   "pygments_lexer": "ipython3",
   "version": "3.8.5"
  }
 },
 "nbformat": 4,
 "nbformat_minor": 5
}
